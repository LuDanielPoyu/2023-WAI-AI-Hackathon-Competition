{
  "cells": [
    {
      "cell_type": "code",
      "execution_count": null,
      "metadata": {
        "colab": {
          "base_uri": "https://localhost:8080/"
        },
        "id": "WxEdj7O_4I_m",
        "outputId": "391c3738-06ef-4bca-c171-abc232e1d812"
      },
      "outputs": [
        {
          "output_type": "stream",
          "name": "stdout",
          "text": [
            "Mounted at /content/drive\n"
          ]
        }
      ],
      "source": [
        "from google.colab import drive\n",
        "drive.mount('/content/drive')"
      ]
    },
    {
      "cell_type": "code",
      "execution_count": null,
      "metadata": {
        "id": "ryAgiBQvmqxZ"
      },
      "outputs": [],
      "source": [
        "import glob\n",
        "import os\n",
        "import pandas as pd\n",
        "\n",
        "# Path to the folder containing all JSON files\n",
        "file_path = '/content/drive/My Drive/restaurant_data/rde2f7e.json'\n",
        "df = pd.read_json(file_path)"
      ]
    },
    {
      "cell_type": "code",
      "execution_count": null,
      "metadata": {
        "id": "PY-95w-enQlO"
      },
      "outputs": [],
      "source": [
        "from sklearn.ensemble import RandomForestRegressor\n",
        "from sklearn.metrics import r2_score\n",
        "from sklearn.model_selection import train_test_split\n",
        "import pandas as pd"
      ]
    },
    {
      "cell_type": "code",
      "execution_count": null,
      "metadata": {
        "colab": {
          "base_uri": "https://localhost:8080/"
        },
        "id": "KfKi6tcX4R0F",
        "outputId": "ddfeaa9d-09d7-4ec1-d54b-5f6398034fba"
      },
      "outputs": [
        {
          "output_type": "stream",
          "name": "stderr",
          "text": [
            "<ipython-input-4-99624f76f09f>:7: SettingWithCopyWarning: \n",
            "A value is trying to be set on a copy of a slice from a DataFrame.\n",
            "Try using .loc[row_indexer,col_indexer] = value instead\n",
            "\n",
            "See the caveats in the documentation: https://pandas.pydata.org/pandas-docs/stable/user_guide/indexing.html#returning-a-view-versus-a-copy\n",
            "  features['blur_name'] = df['blur_customer_order'].apply(lambda x: x[0]['blur_name'] if isinstance(x, list) and len(x) > 0 and 'blur_name' in x[0] else None)\n",
            "<ipython-input-4-99624f76f09f>:8: SettingWithCopyWarning: \n",
            "A value is trying to be set on a copy of a slice from a DataFrame.\n",
            "Try using .loc[row_indexer,col_indexer] = value instead\n",
            "\n",
            "See the caveats in the documentation: https://pandas.pydata.org/pandas-docs/stable/user_guide/indexing.html#returning-a-view-versus-a-copy\n",
            "  features['blur_quantity'] = df['blur_customer_order'].apply(lambda x: x[0]['blur_quantity'] if isinstance(x, list) and len(x) > 0 and 'blur_quantity' in x[0] else None)\n",
            "<ipython-input-4-99624f76f09f>:11: SettingWithCopyWarning: \n",
            "A value is trying to be set on a copy of a slice from a DataFrame.\n",
            "Try using .loc[row_indexer,col_indexer] = value instead\n",
            "\n",
            "See the caveats in the documentation: https://pandas.pydata.org/pandas-docs/stable/user_guide/indexing.html#returning-a-view-versus-a-copy\n",
            "  features['invoice_date'] = pd.to_datetime(features['invoice_unix_timestamp'], unit='s').dt.strftime('%Y-%m-%d')\n"
          ]
        }
      ],
      "source": [
        "import pandas as pd\n",
        "\n",
        "# Extract relevant columns\n",
        "features = df[['blur_restaurant_uuid', 'blur_customer_order', 'invoice_unix_timestamp']]\n",
        "\n",
        "# Extract 'blur_name' and 'blur_quantity' from 'blur_customer_order'\n",
        "features['blur_name'] = df['blur_customer_order'].apply(lambda x: x[0]['blur_name'] if isinstance(x, list) and len(x) > 0 and 'blur_name' in x[0] else None)\n",
        "features['blur_quantity'] = df['blur_customer_order'].apply(lambda x: x[0]['blur_quantity'] if isinstance(x, list) and len(x) > 0 and 'blur_quantity' in x[0] else None)\n",
        "\n",
        "# Convert 'invoice_unix_timestamp' to datetime format and extract year, month, day\n",
        "features['invoice_date'] = pd.to_datetime(features['invoice_unix_timestamp'], unit='s').dt.strftime('%Y-%m-%d')\n",
        "\n",
        "grouped_features = features.groupby(['blur_name', 'invoice_date'], as_index=False).agg({'blur_quantity': 'sum'})\n",
        "# Sort values within each group based on 'invoice_date'in ascending order, 'blur_quantity' in descending order\n",
        "grouped_features.sort_values(['invoice_date', 'blur_quantity'], ascending=[True, False], inplace=True)"
      ]
    },
    {
      "cell_type": "code",
      "execution_count": null,
      "metadata": {
        "colab": {
          "base_uri": "https://localhost:8080/"
        },
        "id": "2xdjINVdLNtr",
        "outputId": "6e39d5ab-1194-4607-bd64-492e2406a51d"
      },
      "outputs": [
        {
          "output_type": "stream",
          "name": "stdout",
          "text": [
            "            blur_name invoice_date  blur_quantity  ranking\n",
            "18868        [5040]奶茶   2020-06-12             11        1\n",
            "3339       [17a4]紅茶拿鐵   2020-06-12              7        2\n",
            "1            [108a]薯餅   2020-06-12              4        3\n",
            "54872      [b8e2]豬排吐司   2020-06-12              4        3\n",
            "55745        [b947]紅茶   2020-06-12              4        3\n",
            "...               ...          ...            ...      ...\n",
            "66472  [e468]咔拉雞吐司 原味   2023-10-06              1       25\n",
            "69109      [f0b5]鮮蝦漢堡   2023-10-06              1       25\n",
            "69168       [f458]*號餐   2023-10-06              1       25\n",
            "69971      [f54d]拿鐵咖啡   2023-10-06              1       25\n",
            "72528     [fc36]*元三明治   2023-10-06              1       25\n",
            "\n",
            "[73883 rows x 4 columns]\n"
          ]
        }
      ],
      "source": [
        "import pandas as pd\n",
        "\n",
        "# Assuming your DataFrame is named grouped_features\n",
        "# If not, replace grouped_features with the actual name of your DataFrame\n",
        "\n",
        "# Create a new column 'ranking' based on the order of 'blur_quantity' for each 'invoice_date' group\n",
        "grouped_features['ranking'] = grouped_features.groupby('invoice_date')['blur_quantity'].rank(ascending=False, method='min').astype(int)\n",
        "print(grouped_features)"
      ]
    },
    {
      "cell_type": "markdown",
      "metadata": {
        "id": "G6NW7zKqPt9X"
      },
      "source": [
        "# Train the model"
      ]
    },
    {
      "cell_type": "code",
      "execution_count": null,
      "metadata": {
        "colab": {
          "base_uri": "https://localhost:8080/"
        },
        "id": "E1s-HuVnOSOJ",
        "outputId": "7b272a95-a247-4b8f-c0fd-df4ea69edd3b"
      },
      "outputs": [
        {
          "output_type": "stream",
          "name": "stdout",
          "text": [
            "R-squared (Random Forest): 0.53\n"
          ]
        }
      ],
      "source": [
        "from sklearn.ensemble import RandomForestRegressor\n",
        "from sklearn.metrics import r2_score\n",
        "from sklearn.model_selection import train_test_split\n",
        "\n",
        "\n",
        "# Features: 'invoice_date', 'blur_name'\n",
        "X = grouped_features[['invoice_date', 'blur_name']].copy()\n",
        "\n",
        "# Convert 'invoice_date' to numerical representation\n",
        "X['invoice_date'] = pd.to_datetime(X['invoice_date']).astype(int)\n",
        "\n",
        "# Encode 'blur_name' using one-hot encoding or other suitable encoding methods\n",
        "# Example using pandas get_dummies for one-hot encoding\n",
        "X = pd.get_dummies(X, columns=['blur_name'], drop_first=True)\n",
        "\n",
        "# Target variable\n",
        "y = grouped_features['ranking'].values\n",
        "\n",
        "# Split the data into training and testing sets\n",
        "X_train, X_test, y_train, y_test = train_test_split(X, y, test_size=0.2, random_state=42)\n",
        "\n",
        "# Initialize the RandomForestRegressor\n",
        "#increase\n",
        "n_estimators = 100\n",
        "max_depth = 100\n",
        "#smaller\n",
        "min_samples_split = 20\n",
        "#bigger\n",
        "min_samples_leaf = 10\n",
        "max_features = None\n",
        "\n",
        "random_forest_model = RandomForestRegressor(\n",
        "    random_state=42,\n",
        "    n_estimators=n_estimators,\n",
        "    max_depth=max_depth,\n",
        "    min_samples_split=min_samples_split,\n",
        "    min_samples_leaf=min_samples_leaf,\n",
        "    max_features=max_features\n",
        ")\n",
        "\n",
        "# Train the model\n",
        "random_forest_model.fit(X_train, y_train)\n",
        "\n",
        "# Predictions\n",
        "y_pred_rf = random_forest_model.predict(X_test)\n",
        "\n",
        "# Evaluate the model using R-squared\n",
        "r_squared_rf = r2_score(y_test, y_pred_rf)\n",
        "print(f'R-squared (Random Forest): {r_squared_rf:.2f}')\n",
        "\n"
      ]
    },
    {
      "cell_type": "markdown",
      "metadata": {
        "id": "lNMuPMjXRm38"
      },
      "source": [
        "##prediction"
      ]
    },
    {
      "cell_type": "code",
      "execution_count": null,
      "metadata": {
        "id": "_0ZrYKRFZ9NK"
      },
      "outputs": [],
      "source": [
        "import pandas as pd\n",
        "\n",
        "file_path1 = '/content/drive/My Drive/restaurant_data/r5028cc.json'\n",
        "df = pd.read_json(file_path1)\n",
        "# print (df)"
      ]
    },
    {
      "cell_type": "code",
      "execution_count": null,
      "metadata": {
        "id": "Fn7lj5F3Rn2a",
        "colab": {
          "base_uri": "https://localhost:8080/"
        },
        "outputId": "3d7a13a5-0f1f-4b03-8e84-b4b4395d7b9b"
      },
      "outputs": [
        {
          "output_type": "stream",
          "name": "stderr",
          "text": [
            "<ipython-input-384-4acff17c0400>:7: SettingWithCopyWarning: \n",
            "A value is trying to be set on a copy of a slice from a DataFrame.\n",
            "Try using .loc[row_indexer,col_indexer] = value instead\n",
            "\n",
            "See the caveats in the documentation: https://pandas.pydata.org/pandas-docs/stable/user_guide/indexing.html#returning-a-view-versus-a-copy\n",
            "  features['blur_name'] = df['blur_customer_order'].apply(lambda x: x[0]['blur_name'] if isinstance(x, list) and len(x) > 0 and 'blur_name' in x[0] else None)\n",
            "<ipython-input-384-4acff17c0400>:8: SettingWithCopyWarning: \n",
            "A value is trying to be set on a copy of a slice from a DataFrame.\n",
            "Try using .loc[row_indexer,col_indexer] = value instead\n",
            "\n",
            "See the caveats in the documentation: https://pandas.pydata.org/pandas-docs/stable/user_guide/indexing.html#returning-a-view-versus-a-copy\n",
            "  features['blur_quantity'] = df['blur_customer_order'].apply(lambda x: x[0]['blur_quantity'] if isinstance(x, list) and len(x) > 0 and 'blur_quantity' in x[0] else None)\n"
          ]
        },
        {
          "output_type": "stream",
          "name": "stdout",
          "text": [
            "            blur_name invoice_date  blur_quantity\n",
            "21000     [5519]火腿蛋吐司   2020-07-07              4\n",
            "65696      [de9a]紅茶 中   2020-07-07              4\n",
            "22059      [5ae2]電話訂單   2020-07-07              3\n",
            "29507      [76b5]紅茶 大   2020-07-07              3\n",
            "46441      [adc5]全麥蛋餅   2020-07-07              3\n",
            "...               ...          ...            ...\n",
            "61358  [d3b4]卡啦雞腿丹麥吐司   2023-10-06              1\n",
            "62818    [d7d2]薯泥起司蛋餅   2023-10-06              1\n",
            "67945       [e1b5]小肉豆   2023-10-06              1\n",
            "72688      [f8bf]熱狗蛋餅   2023-10-06              1\n",
            "74680      [ffa8]可可 大   2023-10-06              1\n",
            "\n",
            "[74681 rows x 3 columns]\n",
            "488\n"
          ]
        },
        {
          "output_type": "stream",
          "name": "stderr",
          "text": [
            "<ipython-input-384-4acff17c0400>:11: SettingWithCopyWarning: \n",
            "A value is trying to be set on a copy of a slice from a DataFrame.\n",
            "Try using .loc[row_indexer,col_indexer] = value instead\n",
            "\n",
            "See the caveats in the documentation: https://pandas.pydata.org/pandas-docs/stable/user_guide/indexing.html#returning-a-view-versus-a-copy\n",
            "  features['invoice_date'] = pd.to_datetime(features['invoice_unix_timestamp'], unit='s').dt.strftime('%Y-%m-%d')\n"
          ]
        }
      ],
      "source": [
        "import pandas as pd\n",
        "\n",
        "# Extract relevant columns\n",
        "features = df[['blur_restaurant_uuid', 'blur_customer_order', 'invoice_unix_timestamp']]\n",
        "\n",
        "# Extract 'blur_name' and 'blur_quantity' from 'blur_customer_order'\n",
        "features['blur_name'] = df['blur_customer_order'].apply(lambda x: x[0]['blur_name'] if isinstance(x, list) and len(x) > 0 and 'blur_name' in x[0] else None)\n",
        "features['blur_quantity'] = df['blur_customer_order'].apply(lambda x: x[0]['blur_quantity'] if isinstance(x, list) and len(x) > 0 and 'blur_quantity' in x[0] else None)\n",
        "\n",
        "# Convert 'invoice_unix_timestamp' to datetime format and extract year, month, day\n",
        "features['invoice_date'] = pd.to_datetime(features['invoice_unix_timestamp'], unit='s').dt.strftime('%Y-%m-%d')\n",
        "\n",
        "grouped_features = features.groupby(['blur_name', 'invoice_date'], as_index=False).agg({'blur_quantity': 'sum'})\n",
        "# Sort values within each group based on 'invoice_date'in ascending order, 'blur_quantity' in descending order\n",
        "grouped_features.sort_values(['invoice_date', 'blur_quantity'], ascending=[True, False], inplace=True)\n",
        "unique_blur_names = grouped_features['blur_name'].nunique()\n",
        "\n",
        "print(grouped_features)\n",
        "\n",
        "\n",
        "\n",
        "\n",
        "\n",
        "\n",
        "print(unique_blur_names)\n",
        "\n",
        "\n",
        "\n",
        "\n",
        "\n"
      ]
    },
    {
      "cell_type": "code",
      "execution_count": null,
      "metadata": {
        "id": "nmjDygaHaARL",
        "colab": {
          "base_uri": "https://localhost:8080/"
        },
        "outputId": "008183fa-5db8-49a0-f64d-662c22353619"
      },
      "outputs": [
        {
          "output_type": "stream",
          "name": "stdout",
          "text": [
            "             invoice_date  blur_name_[1060]鮪魚總匯  blur_name_[10c2]卡啦雞總匯  \\\n",
            "0     1696636800000000000                     0                      0   \n",
            "1     1696636800000000000                     0                      0   \n",
            "2     1696636800000000000                     0                      0   \n",
            "3     1696636800000000000                     0                      0   \n",
            "4     1696636800000000000                     0                      0   \n",
            "...                   ...                   ...                    ...   \n",
            "3411  1697155200000000000                     0                      0   \n",
            "3412  1697155200000000000                     0                      0   \n",
            "3413  1697155200000000000                     0                      0   \n",
            "3414  1697155200000000000                     0                      0   \n",
            "3415  1697155200000000000                     0                      0   \n",
            "\n",
            "      blur_name_[10c9]草莓  blur_name_[1164]法式套餐  blur_name_[1223]黑胡椒豬排  \\\n",
            "0                      0                     0                      0   \n",
            "1                      0                     0                      0   \n",
            "2                      0                     0                      0   \n",
            "3                      0                     0                      0   \n",
            "4                      0                     0                      0   \n",
            "...                  ...                   ...                    ...   \n",
            "3411                   0                     0                      0   \n",
            "3412                   0                     0                      0   \n",
            "3413                   0                     0                      0   \n",
            "3414                   0                     0                      0   \n",
            "3415                   0                     0                      0   \n",
            "\n",
            "      blur_name_[12dc]草莓  blur_name_[1360]*號餐  blur_name_[139c]*號餐  \\\n",
            "0                      0                    0                    0   \n",
            "1                      0                    0                    0   \n",
            "2                      0                    0                    0   \n",
            "3                      0                    0                    0   \n",
            "4                      0                    0                    0   \n",
            "...                  ...                  ...                  ...   \n",
            "3411                   0                    0                    0   \n",
            "3412                   0                    0                    0   \n",
            "3413                   0                    0                    0   \n",
            "3414                   0                    0                    0   \n",
            "3415                   0                    0                    0   \n",
            "\n",
            "      blur_name_[147b]鮮奶茶 大  ...  blur_name_[fc8a]大阪燒肉焗烤 潛艇  \\\n",
            "0                         0  ...                          0   \n",
            "1                         0  ...                          0   \n",
            "2                         0  ...                          0   \n",
            "3                         0  ...                          0   \n",
            "4                         0  ...                          0   \n",
            "...                     ...  ...                        ...   \n",
            "3411                      0  ...                          0   \n",
            "3412                      0  ...                          0   \n",
            "3413                      0  ...                          0   \n",
            "3414                      0  ...                          0   \n",
            "3415                      0  ...                          0   \n",
            "\n",
            "      blur_name_[fca9]牛肉芝士丹麥堡  blur_name_[fd85]*號餐  blur_name_[fdd3]泡菜蛋餅  \\\n",
            "0                           0                    0                     0   \n",
            "1                           0                    0                     0   \n",
            "2                           0                    0                     0   \n",
            "3                           0                    0                     0   \n",
            "4                           0                    0                     0   \n",
            "...                       ...                  ...                   ...   \n",
            "3411                        0                    0                     0   \n",
            "3412                        0                    0                     0   \n",
            "3413                        0                    0                     0   \n",
            "3414                        0                    0                     0   \n",
            "3415                        0                    0                     0   \n",
            "\n",
            "      blur_name_[fdf3]花生 湯種  blur_name_[fe06]墨西哥烤 *隻  blur_name_[fe41]奶油  \\\n",
            "0                         0                        0                   0   \n",
            "1                         0                        0                   0   \n",
            "2                         0                        0                   0   \n",
            "3                         0                        0                   0   \n",
            "4                         0                        0                   0   \n",
            "...                     ...                      ...                 ...   \n",
            "3411                      0                        0                   0   \n",
            "3412                      0                        0                   0   \n",
            "3413                      0                        0                   0   \n",
            "3414                      0                        0                   0   \n",
            "3415                      0                        1                   0   \n",
            "\n",
            "      blur_name_[fe4b]椒麻雞腿湯種  blur_name_[fe58]卡啦雞腿貝果  blur_name_[ffa8]可可 大  \n",
            "0                          0                       0                     0  \n",
            "1                          0                       0                     0  \n",
            "2                          0                       0                     0  \n",
            "3                          0                       0                     0  \n",
            "4                          0                       0                     0  \n",
            "...                      ...                     ...                   ...  \n",
            "3411                       0                       0                     0  \n",
            "3412                       0                       0                     0  \n",
            "3413                       0                       0                     0  \n",
            "3414                       0                       0                     0  \n",
            "3415                       0                       0                     0  \n",
            "\n",
            "[3416 rows x 488 columns]\n"
          ]
        }
      ],
      "source": [
        "import pandas as pd\n",
        "import numpy as np\n",
        "\n",
        "# Define the date range\n",
        "prediction_dates = pd.date_range(start='2023-10-07', end='2023-10-13')\n",
        "\n",
        "# Create a list of unique blur_names from your original data\n",
        "unique_blur_names = grouped_features['blur_name'].unique()\n",
        "\n",
        "# Create a DataFrame with all combinations of dates and blur_names\n",
        "prediction_data = pd.DataFrame(index=pd.MultiIndex.from_product([prediction_dates, unique_blur_names], names=['invoice_date', 'blur_name'])).reset_index()\n",
        "\n",
        "# Convert 'invoice_date' to numerical representation\n",
        "prediction_data['invoice_date'] = pd.to_datetime(prediction_data['invoice_date']).astype(int)\n",
        "\n",
        "# Encode 'blur_name' using one-hot encoding or other suitable encoding methods\n",
        "# Example using pandas get_dummies for one-hot encoding\n",
        "prediction_data = pd.get_dummies(prediction_data, columns=['blur_name'], drop_first=True)\n",
        "\n",
        "print(prediction_data)\n"
      ]
    },
    {
      "cell_type": "markdown",
      "metadata": {
        "id": "vg4sjDeRaVLO"
      },
      "source": [
        "##predict results"
      ]
    },
    {
      "cell_type": "code",
      "execution_count": null,
      "metadata": {
        "id": "MWnuBIbZaWMf"
      },
      "outputs": [],
      "source": [
        "# Make predictions\n",
        "predictions = random_forest_model.predict(prediction_data)\n",
        "\n",
        "# Add the predictions to the prediction_data DataFrame\n",
        "prediction_data['predicted_ranking'] = predictions\n",
        "\n",
        "# print(prediction_data)"
      ]
    },
    {
      "cell_type": "code",
      "execution_count": null,
      "metadata": {
        "id": "_ocmMUKZbtAC",
        "colab": {
          "base_uri": "https://localhost:8080/"
        },
        "outputId": "d81c4bbb-e030-4ecd-d355-4841d5f7aa0b"
      },
      "outputs": [
        {
          "output_type": "stream",
          "name": "stdout",
          "text": [
            "     invoice_date         blur_name\n",
            "0      2023-10-07       [5519]火腿蛋吐司\n",
            "1      2023-10-07        [de9a]紅茶 中\n",
            "2      2023-10-07        [5ae2]電話訂單\n",
            "3      2023-10-07        [76b5]紅茶 大\n",
            "4      2023-10-07        [adc5]全麥蛋餅\n",
            "...           ...               ...\n",
            "3411   2023-10-13      [2795]紐奧良雞腿堡\n",
            "3412   2023-10-13  [b739]紐澳良雞腿嫩蛋米漢堡\n",
            "3413   2023-10-13    [bec3]胡麻里肌丹麥吐司\n",
            "3414   2023-10-13   [fc13]泡菜豬排嫩蛋米漢堡\n",
            "3415   2023-10-13     [fe06]墨西哥烤 *隻\n",
            "\n",
            "[3416 rows x 2 columns]\n"
          ]
        }
      ],
      "source": [
        "\n",
        "# Extract 'invoice_date' column from prediction_data\n",
        "date_column = prediction_data['invoice_date']\n",
        "\n",
        "# Convert the numerical date to datetime format\n",
        "date_column = pd.to_datetime(date_column)\n",
        "\n",
        "# Create a new DataFrame with the transformed 'invoice_date'\n",
        "result_df = pd.DataFrame({'invoice_date': date_column})\n",
        "\n",
        "\n",
        "\n",
        "\n",
        "\n",
        "\n",
        "# Extract relevant column names from prediction_data\n",
        "# type the former value-1\n",
        "blur_name_columns = prediction_data.columns[1:487]\n",
        "\n",
        "\n",
        "\n",
        "\n",
        "\n",
        "\n",
        "\n",
        "# Create a new column in invoice_date_df with the corresponding blur_name\n",
        "result_df['blur_name'] = prediction_data[blur_name_columns].idxmax(axis=1).str.replace('blur_name_', '')\n",
        "\n",
        "# Print the new DataFrame\n",
        "print(result_df)\n"
      ]
    },
    {
      "cell_type": "code",
      "execution_count": null,
      "metadata": {
        "id": "SbUAzAaae_R6"
      },
      "outputs": [],
      "source": [
        "\n",
        "# print(prediction_data['predicted_ranking'])\n",
        "import numpy as np\n",
        "\n",
        "\n",
        "\n",
        "\n",
        "\n",
        "\n",
        "# Assuming 163 rows per group\n",
        "#type the former value\n",
        "group_size = 488\n",
        "\n",
        "\n",
        "\n",
        "\n",
        "# Initialize an empty list to store the final rankings\n",
        "final_rankings = []\n",
        "\n",
        "# Iterate through each group\n",
        "for group_start in range(0, len(prediction_data), group_size):\n",
        "    # Select the current group\n",
        "    group = prediction_data['predicted_ranking'].iloc[group_start:group_start + group_size]\n",
        "\n",
        "    # Calculate the ranking within the group\n",
        "    group_ranking = np.argsort(group)\n",
        "    group_ranking = np.argsort(group_ranking)+1\n",
        "\n",
        "    # Extend the final_rankings list with the rankings for the current group\n",
        "    final_rankings.extend(group_ranking)\n",
        "\n",
        "# Add the 'final_ranking' column to the DataFrame\n",
        "prediction_data['final_ranking'] = final_rankings\n",
        "\n",
        "# Print the DataFrame with the new 'final_ranking' column\n",
        "# print(prediction_data[['predicted_ranking', 'final_ranking']])\n",
        "\n"
      ]
    },
    {
      "cell_type": "code",
      "execution_count": null,
      "metadata": {
        "id": "SqZYn_UEkgyq",
        "colab": {
          "base_uri": "https://localhost:8080/"
        },
        "outputId": "320f6396-2eea-40b2-81ed-684f1d9fa823"
      },
      "outputs": [
        {
          "output_type": "stream",
          "name": "stdout",
          "text": [
            "     invoice_date         blur_name  final_ranking restaurant_name\n",
            "0      2023-10-07       [5519]火腿蛋吐司              7         r5028cc\n",
            "1      2023-10-07        [de9a]紅茶 中              3         r5028cc\n",
            "2      2023-10-07        [5ae2]電話訂單              1         r5028cc\n",
            "3      2023-10-07        [76b5]紅茶 大              2         r5028cc\n",
            "4      2023-10-07        [adc5]全麥蛋餅            331         r5028cc\n",
            "...           ...               ...            ...             ...\n",
            "3411   2023-10-13      [2795]紐奧良雞腿堡            160         r5028cc\n",
            "3412   2023-10-13  [b739]紐澳良雞腿嫩蛋米漢堡            159         r5028cc\n",
            "3413   2023-10-13    [bec3]胡麻里肌丹麥吐司            158         r5028cc\n",
            "3414   2023-10-13   [fc13]泡菜豬排嫩蛋米漢堡            394         r5028cc\n",
            "3415   2023-10-13     [fe06]墨西哥烤 *隻            478         r5028cc\n",
            "\n",
            "[3416 rows x 4 columns]\n"
          ]
        }
      ],
      "source": [
        "# Merge 'final_ranking' column from prediction_data into result_df\n",
        "result_df = pd.merge(result_df, prediction_data[['final_ranking']], left_index=True, right_index=True, how='left')\n",
        "\n",
        "# Print the updated result_df\n",
        "# print(result_df)\n",
        "\n",
        "# Extract restaurant name from the file_path\n",
        "restaurant_name = os.path.basename(file_path).split('.')[0]\n",
        "result_df['restaurant_name'] = restaurant_name\n",
        "\n",
        "result_df.to_csv('/content/drive/My Drive/restaurant_data/decisiontree_predicted_r5028cc.csv', index=False)\n",
        "print(result_df)"
      ]
    }
  ],
  "metadata": {
    "accelerator": "TPU",
    "colab": {
      "machine_shape": "hm",
      "provenance": []
    },
    "kernelspec": {
      "display_name": "Python 3",
      "name": "python3"
    },
    "language_info": {
      "name": "python"
    }
  },
  "nbformat": 4,
  "nbformat_minor": 0
}