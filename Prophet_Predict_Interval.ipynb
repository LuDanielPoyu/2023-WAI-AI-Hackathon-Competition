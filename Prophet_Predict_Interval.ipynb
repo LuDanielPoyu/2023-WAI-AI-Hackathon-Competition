{
  "nbformat": 4,
  "nbformat_minor": 0,
  "metadata": {
    "colab": {
      "provenance": [],
      "machine_shape": "hm"
    },
    "kernelspec": {
      "name": "python3",
      "display_name": "Python 3"
    },
    "language_info": {
      "name": "python"
    },
    "accelerator": "TPU"
  },
  "cells": [
    {
      "cell_type": "code",
      "execution_count": null,
      "metadata": {
        "id": "vx8ii0FvK3HT",
        "colab": {
          "base_uri": "https://localhost:8080/"
        },
        "outputId": "0e14952c-1ccc-4572-b5c7-1e95ded546f8"
      },
      "outputs": [
        {
          "output_type": "stream",
          "name": "stdout",
          "text": [
            "Drive already mounted at /content/drive; to attempt to forcibly remount, call drive.mount(\"/content/drive\", force_remount=True).\n"
          ]
        }
      ],
      "source": [
        "from google.colab import drive\n",
        "drive.mount('/content/drive')"
      ]
    },
    {
      "cell_type": "code",
      "source": [
        "pip install prophet"
      ],
      "metadata": {
        "colab": {
          "base_uri": "https://localhost:8080/"
        },
        "id": "XyJGjgUEYi2r",
        "outputId": "9d9b7b08-731b-4a0e-a266-250238227577"
      },
      "execution_count": null,
      "outputs": [
        {
          "output_type": "stream",
          "name": "stdout",
          "text": [
            "Requirement already satisfied: prophet in /usr/local/lib/python3.10/dist-packages (1.1.5)\n",
            "Requirement already satisfied: cmdstanpy>=1.0.4 in /usr/local/lib/python3.10/dist-packages (from prophet) (1.2.0)\n",
            "Requirement already satisfied: numpy>=1.15.4 in /usr/local/lib/python3.10/dist-packages (from prophet) (1.23.5)\n",
            "Requirement already satisfied: matplotlib>=2.0.0 in /usr/local/lib/python3.10/dist-packages (from prophet) (3.7.1)\n",
            "Requirement already satisfied: pandas>=1.0.4 in /usr/local/lib/python3.10/dist-packages (from prophet) (1.5.3)\n",
            "Requirement already satisfied: holidays>=0.25 in /usr/local/lib/python3.10/dist-packages (from prophet) (0.37)\n",
            "Requirement already satisfied: tqdm>=4.36.1 in /usr/local/lib/python3.10/dist-packages (from prophet) (4.66.1)\n",
            "Requirement already satisfied: importlib-resources in /usr/local/lib/python3.10/dist-packages (from prophet) (6.1.1)\n",
            "Requirement already satisfied: stanio~=0.3.0 in /usr/local/lib/python3.10/dist-packages (from cmdstanpy>=1.0.4->prophet) (0.3.0)\n",
            "Requirement already satisfied: python-dateutil in /usr/local/lib/python3.10/dist-packages (from holidays>=0.25->prophet) (2.8.2)\n",
            "Requirement already satisfied: contourpy>=1.0.1 in /usr/local/lib/python3.10/dist-packages (from matplotlib>=2.0.0->prophet) (1.2.0)\n",
            "Requirement already satisfied: cycler>=0.10 in /usr/local/lib/python3.10/dist-packages (from matplotlib>=2.0.0->prophet) (0.12.1)\n",
            "Requirement already satisfied: fonttools>=4.22.0 in /usr/local/lib/python3.10/dist-packages (from matplotlib>=2.0.0->prophet) (4.45.1)\n",
            "Requirement already satisfied: kiwisolver>=1.0.1 in /usr/local/lib/python3.10/dist-packages (from matplotlib>=2.0.0->prophet) (1.4.5)\n",
            "Requirement already satisfied: packaging>=20.0 in /usr/local/lib/python3.10/dist-packages (from matplotlib>=2.0.0->prophet) (23.2)\n",
            "Requirement already satisfied: pillow>=6.2.0 in /usr/local/lib/python3.10/dist-packages (from matplotlib>=2.0.0->prophet) (9.4.0)\n",
            "Requirement already satisfied: pyparsing>=2.3.1 in /usr/local/lib/python3.10/dist-packages (from matplotlib>=2.0.0->prophet) (3.1.1)\n",
            "Requirement already satisfied: pytz>=2020.1 in /usr/local/lib/python3.10/dist-packages (from pandas>=1.0.4->prophet) (2023.3.post1)\n",
            "Requirement already satisfied: six>=1.5 in /usr/local/lib/python3.10/dist-packages (from python-dateutil->holidays>=0.25->prophet) (1.16.0)\n"
          ]
        }
      ]
    },
    {
      "cell_type": "code",
      "source": [
        "import glob\n",
        "import os\n",
        "import pandas as pd\n",
        "\n",
        "# Path to the folder containing all JSON files\n",
        "folder_path = '/content/drive/My Drive/restaurant_data/'\n",
        "\n",
        "# Get a list of all JSON files in the folder\n",
        "json_files = glob.glob(folder_path + '*.json')\n",
        "\n",
        "# Create an empty DataFrame to store the final results\n",
        "final_result = pd.DataFrame()\n",
        "\n",
        "for file_path in json_files:\n",
        "    file_name = os.path.basename(file_path)\n",
        "    print(f\"Processing file: {file_name}\")\n"
      ],
      "metadata": {
        "colab": {
          "base_uri": "https://localhost:8080/"
        },
        "id": "ZbOo9-rILlMd",
        "outputId": "da78b671-904c-43ff-a164-6649b5225643"
      },
      "execution_count": null,
      "outputs": [
        {
          "output_type": "stream",
          "name": "stdout",
          "text": [
            "Processing file: r71ee64.json\n",
            "Processing file: rec62b3.json\n",
            "Processing file: rfa1ab3.json\n",
            "Processing file: r4ea226.json\n",
            "Processing file: r3d1075.json\n",
            "Processing file: r9b4973.json\n",
            "Processing file: r9c6dd9.json\n",
            "Processing file: r86f453.json\n",
            "Processing file: re55f26.json\n",
            "Processing file: rc58e97.json\n",
            "Processing file: rbe4009.json\n",
            "Processing file: re0fcc4.json\n",
            "Processing file: reb5930.json\n",
            "Processing file: rc0b601.json\n",
            "Processing file: rc35c11.json\n",
            "Processing file: re923de.json\n",
            "Processing file: r91c411.json\n",
            "Processing file: rd1187b.json\n",
            "Processing file: r8973fe.json\n",
            "Processing file: rda94f6.json\n",
            "Processing file: r8a2e4a.json\n",
            "Processing file: r5028cc.json\n",
            "Processing file: rcf444b.json\n",
            "Processing file: rde2f7e.json\n",
            "Processing file: r4c8016.json\n",
            "Processing file: r9ae7da.json\n",
            "Processing file: rf767b1.json\n",
            "Processing file: rfec07f.json\n",
            "Processing file: r8f4a63.json\n",
            "Processing file: refff54.json\n",
            "Processing file: r5e9540.json\n",
            "Processing file: r821d0c.json\n",
            "Processing file: r3c8001.json\n",
            "Processing file: rcb1696.json\n",
            "Processing file: rd95bf0.json\n",
            "Processing file: rafb520.json\n",
            "Processing file: rcc4703.json\n",
            "Processing file: r80e8d4.json\n",
            "Processing file: ra13765.json\n",
            "Processing file: r3588c2.json\n"
          ]
        }
      ]
    },
    {
      "cell_type": "markdown",
      "source": [
        "#整合"
      ],
      "metadata": {
        "id": "ogrj0TuRb35T"
      }
    },
    {
      "cell_type": "code",
      "source": [
        "from sklearn.model_selection import train_test_split\n",
        "from sklearn.metrics import mean_absolute_error\n",
        "from prophet import Prophet\n",
        "import matplotlib.pyplot as plt"
      ],
      "metadata": {
        "id": "n6NHfDuab8w9"
      },
      "execution_count": null,
      "outputs": []
    },
    {
      "cell_type": "markdown",
      "source": [
        "## 全部跑完 （先跳過）\n"
      ],
      "metadata": {
        "id": "8unGV8jDRa0z"
      }
    },
    {
      "cell_type": "code",
      "source": [
        "for i, file_path in enumerate(json_files[:5]):\n",
        "    # Load data\n",
        "    df = pd.read_json(file_path)\n",
        "\n",
        "    # Need to prepare a DataFrame 'df' with columns 'ds' (datetime) and 'y' (revenue)\n",
        "\n",
        "    # Extract restaurant name from the file_path\n",
        "    restaurant_name = os.path.basename(file_path).split('.')[0]\n",
        "\n",
        "    # Convert 'invoice_unix_timestamp'(counted in seconds) to datetime format\n",
        "    df['ds'] = pd.to_datetime(df['invoice_unix_timestamp'], unit='s')\n",
        "\n",
        "    # Assuming revenue is the sum of 'invoice_total_amount' and 'invoice_discount_amount'\n",
        "    df['y'] = df['invoice_total_amount'].astype(float) - df['invoice_discount_amount'].astype(float)\n",
        "\n",
        "    # Create a new DataFrame with only 'ds' and 'y' columns\n",
        "    df = df[['ds', 'y']]\n",
        "\n",
        "    # Split the data into training and testing sets\n",
        "    train_size = int(len(df) * 0.8)  # 80% training, 20% testing\n",
        "    train_data, test_data = df[:train_size], df[train_size:]\n",
        "\n",
        "    # Define the model\n",
        "    model = Prophet(\n",
        "        seasonality_prior_scale=0.01,\n",
        "        changepoint_prior_scale=0.1,\n",
        "        # n_changepoints=25\n",
        "    )\n",
        "\n",
        "    # Add Taiwanese holidays\n",
        "    model.add_country_holidays(country_name='TW')\n",
        "\n",
        "    # Fit the model with training data\n",
        "    model.fit(train_data)\n",
        "\n",
        "    hourly_date_range = pd.date_range(start='2023-10-07', end='2023-10-13', freq='H')\n",
        "    future_hourly = pd.DataFrame({'ds': hourly_date_range})\n",
        "\n",
        "    # Use the model to make an hourly forecast\n",
        "    forecast_hourly = model.predict(future_hourly)\n",
        "\n",
        "    result = []\n",
        "    # for date in forecast_hourly['ds'].dt.date.unique():\n",
        "    #     daily_data = forecast_hourly[forecast_hourly['ds'].dt.date == date]\n",
        "    #     hourly_differences = daily_data['yhat'].diff().fillna(0)  # Calculate differences between consecutive hours\n",
        "    #     max_interval_end = daily_data.loc[hourly_differences.idxmax(), 'ds']\n",
        "\n",
        "    #     # Subtract an hour to get the start of the peak interval\n",
        "    #     max_interval_start = max_interval_end - pd.DateOffset(hours=1)\n",
        "\n",
        "    #     result.append({'Date': date, 'Peak Interval Start': max_interval_start.strftime('%H:%M'),\n",
        "    #                   'Peak Interval End': max_interval_end.strftime('%H:%M')})\n",
        "\n",
        "    for date in forecast_hourly['ds'].dt.date.unique():\n",
        "      daily_data = forecast_hourly[forecast_hourly['ds'].dt.date == date]\n",
        "\n",
        "      # Find the hour with the maximum revenue\n",
        "      max_revenue_hour = daily_data.loc[daily_data['yhat'].idxmax(), 'ds']\n",
        "\n",
        "      # Subtract an hour to get the start of the peak interval\n",
        "      max_interval_start = max_revenue_hour - pd.DateOffset(hours=1)\n",
        "\n",
        "      result.append({'Date': date, 'Peak Interval Start': max_interval_start.strftime('%H:%M'),\n",
        "                    'Peak Interval End': max_revenue_hour.strftime('%H:%M')})\n",
        "\n",
        "\n",
        "    # Convert the result to a DataFrame\n",
        "    result_df = pd.DataFrame(result)\n",
        "    result_df['restaurant_name'] = restaurant_name\n",
        "    print(result_df)\n",
        "\n",
        "    # Append the result to the final_result DataFrame\n",
        "    final_result = pd.concat([final_result, result_df], ignore_index=True)\n",
        "\n",
        "final_result.to_csv('/content/drive/My Drive/restaurant_data/predicted_results_1~5.csv', index=False)\n",
        "print(final_result)"
      ],
      "metadata": {
        "colab": {
          "base_uri": "https://localhost:8080/"
        },
        "id": "Wsdc4wRdRkVh",
        "outputId": "74f5634f-bc09-4eba-94ff-6812f51517d7"
      },
      "execution_count": null,
      "outputs": [
        {
          "output_type": "stream",
          "name": "stderr",
          "text": [
            "DEBUG:cmdstanpy:input tempfile: /tmp/tmphb9jblk1/ljr3wbs4.json\n",
            "DEBUG:cmdstanpy:input tempfile: /tmp/tmphb9jblk1/tdpd4nwu.json\n",
            "DEBUG:cmdstanpy:idx 0\n",
            "DEBUG:cmdstanpy:running CmdStan, num_threads: None\n",
            "DEBUG:cmdstanpy:CmdStan args: ['/usr/local/lib/python3.10/dist-packages/prophet/stan_model/prophet_model.bin', 'random', 'seed=67645', 'data', 'file=/tmp/tmphb9jblk1/ljr3wbs4.json', 'init=/tmp/tmphb9jblk1/tdpd4nwu.json', 'output', 'file=/tmp/tmphb9jblk1/prophet_modelmsqi82xp/prophet_model-20231209071959.csv', 'method=optimize', 'algorithm=lbfgs', 'iter=10000']\n",
            "07:19:59 - cmdstanpy - INFO - Chain [1] start processing\n",
            "INFO:cmdstanpy:Chain [1] start processing\n",
            "07:20:12 - cmdstanpy - INFO - Chain [1] done processing\n",
            "INFO:cmdstanpy:Chain [1] done processing\n"
          ]
        },
        {
          "output_type": "stream",
          "name": "stdout",
          "text": [
            "         Date Peak Interval Start Peak Interval End restaurant_name\n",
            "0  2023-10-07               09:00             10:00         r71ee64\n",
            "1  2023-10-08               09:00             10:00         r71ee64\n",
            "2  2023-10-09               09:00             10:00         r71ee64\n",
            "3  2023-10-10               09:00             10:00         r71ee64\n",
            "4  2023-10-11               09:00             10:00         r71ee64\n",
            "5  2023-10-12               09:00             10:00         r71ee64\n",
            "6  2023-10-13               23:00             00:00         r71ee64\n"
          ]
        },
        {
          "output_type": "stream",
          "name": "stderr",
          "text": [
            "INFO:prophet:Disabling yearly seasonality. Run prophet with yearly_seasonality=True to override this.\n",
            "DEBUG:cmdstanpy:input tempfile: /tmp/tmphb9jblk1/i63jca12.json\n",
            "DEBUG:cmdstanpy:input tempfile: /tmp/tmphb9jblk1/j7lo8mkc.json\n",
            "DEBUG:cmdstanpy:idx 0\n",
            "DEBUG:cmdstanpy:running CmdStan, num_threads: None\n",
            "DEBUG:cmdstanpy:CmdStan args: ['/usr/local/lib/python3.10/dist-packages/prophet/stan_model/prophet_model.bin', 'random', 'seed=66879', 'data', 'file=/tmp/tmphb9jblk1/i63jca12.json', 'init=/tmp/tmphb9jblk1/j7lo8mkc.json', 'output', 'file=/tmp/tmphb9jblk1/prophet_modelkfvh2csq/prophet_model-20231209072016.csv', 'method=optimize', 'algorithm=lbfgs', 'iter=10000']\n",
            "07:20:16 - cmdstanpy - INFO - Chain [1] start processing\n",
            "INFO:cmdstanpy:Chain [1] start processing\n",
            "07:20:24 - cmdstanpy - INFO - Chain [1] done processing\n",
            "INFO:cmdstanpy:Chain [1] done processing\n"
          ]
        },
        {
          "output_type": "stream",
          "name": "stdout",
          "text": [
            "         Date Peak Interval Start Peak Interval End restaurant_name\n",
            "0  2023-10-07               08:00             09:00         rec62b3\n",
            "1  2023-10-08               08:00             09:00         rec62b3\n",
            "2  2023-10-09               08:00             09:00         rec62b3\n",
            "3  2023-10-10               08:00             09:00         rec62b3\n",
            "4  2023-10-11               08:00             09:00         rec62b3\n",
            "5  2023-10-12               08:00             09:00         rec62b3\n",
            "6  2023-10-13               23:00             00:00         rec62b3\n"
          ]
        },
        {
          "output_type": "stream",
          "name": "stderr",
          "text": [
            "DEBUG:cmdstanpy:input tempfile: /tmp/tmphb9jblk1/4gfdrnh3.json\n",
            "DEBUG:cmdstanpy:input tempfile: /tmp/tmphb9jblk1/b2l3iy3d.json\n",
            "DEBUG:cmdstanpy:idx 0\n",
            "DEBUG:cmdstanpy:running CmdStan, num_threads: None\n",
            "DEBUG:cmdstanpy:CmdStan args: ['/usr/local/lib/python3.10/dist-packages/prophet/stan_model/prophet_model.bin', 'random', 'seed=4532', 'data', 'file=/tmp/tmphb9jblk1/4gfdrnh3.json', 'init=/tmp/tmphb9jblk1/b2l3iy3d.json', 'output', 'file=/tmp/tmphb9jblk1/prophet_model66agd4dk/prophet_model-20231209072031.csv', 'method=optimize', 'algorithm=lbfgs', 'iter=10000']\n",
            "07:20:31 - cmdstanpy - INFO - Chain [1] start processing\n",
            "INFO:cmdstanpy:Chain [1] start processing\n",
            "07:20:46 - cmdstanpy - INFO - Chain [1] done processing\n",
            "INFO:cmdstanpy:Chain [1] done processing\n"
          ]
        },
        {
          "output_type": "stream",
          "name": "stdout",
          "text": [
            "         Date Peak Interval Start Peak Interval End restaurant_name\n",
            "0  2023-10-07               10:00             11:00         rfa1ab3\n",
            "1  2023-10-08               10:00             11:00         rfa1ab3\n",
            "2  2023-10-09               10:00             11:00         rfa1ab3\n",
            "3  2023-10-10               10:00             11:00         rfa1ab3\n",
            "4  2023-10-11               10:00             11:00         rfa1ab3\n",
            "5  2023-10-12               10:00             11:00         rfa1ab3\n",
            "6  2023-10-13               23:00             00:00         rfa1ab3\n"
          ]
        },
        {
          "output_type": "stream",
          "name": "stderr",
          "text": [
            "DEBUG:cmdstanpy:input tempfile: /tmp/tmphb9jblk1/7s4qkjk4.json\n",
            "DEBUG:cmdstanpy:input tempfile: /tmp/tmphb9jblk1/int1fr0j.json\n",
            "DEBUG:cmdstanpy:idx 0\n",
            "DEBUG:cmdstanpy:running CmdStan, num_threads: None\n",
            "DEBUG:cmdstanpy:CmdStan args: ['/usr/local/lib/python3.10/dist-packages/prophet/stan_model/prophet_model.bin', 'random', 'seed=65061', 'data', 'file=/tmp/tmphb9jblk1/7s4qkjk4.json', 'init=/tmp/tmphb9jblk1/int1fr0j.json', 'output', 'file=/tmp/tmphb9jblk1/prophet_modelodnwo2zs/prophet_model-20231209072113.csv', 'method=optimize', 'algorithm=lbfgs', 'iter=10000']\n",
            "07:21:13 - cmdstanpy - INFO - Chain [1] start processing\n",
            "INFO:cmdstanpy:Chain [1] start processing\n",
            "07:21:38 - cmdstanpy - INFO - Chain [1] done processing\n",
            "INFO:cmdstanpy:Chain [1] done processing\n"
          ]
        },
        {
          "output_type": "stream",
          "name": "stdout",
          "text": [
            "         Date Peak Interval Start Peak Interval End restaurant_name\n",
            "0  2023-10-07               12:00             13:00         r4ea226\n",
            "1  2023-10-08               02:00             03:00         r4ea226\n",
            "2  2023-10-09               02:00             03:00         r4ea226\n",
            "3  2023-10-10               02:00             03:00         r4ea226\n",
            "4  2023-10-11               02:00             03:00         r4ea226\n",
            "5  2023-10-12               02:00             03:00         r4ea226\n",
            "6  2023-10-13               23:00             00:00         r4ea226\n"
          ]
        },
        {
          "output_type": "stream",
          "name": "stderr",
          "text": [
            "DEBUG:cmdstanpy:input tempfile: /tmp/tmphb9jblk1/0s36s4qj.json\n",
            "DEBUG:cmdstanpy:input tempfile: /tmp/tmphb9jblk1/j7u82z2t.json\n",
            "DEBUG:cmdstanpy:idx 0\n",
            "DEBUG:cmdstanpy:running CmdStan, num_threads: None\n",
            "DEBUG:cmdstanpy:CmdStan args: ['/usr/local/lib/python3.10/dist-packages/prophet/stan_model/prophet_model.bin', 'random', 'seed=92160', 'data', 'file=/tmp/tmphb9jblk1/0s36s4qj.json', 'init=/tmp/tmphb9jblk1/j7u82z2t.json', 'output', 'file=/tmp/tmphb9jblk1/prophet_modelhekc06jl/prophet_model-20231209072212.csv', 'method=optimize', 'algorithm=lbfgs', 'iter=10000']\n",
            "07:22:12 - cmdstanpy - INFO - Chain [1] start processing\n",
            "INFO:cmdstanpy:Chain [1] start processing\n",
            "07:23:14 - cmdstanpy - INFO - Chain [1] done processing\n",
            "INFO:cmdstanpy:Chain [1] done processing\n"
          ]
        },
        {
          "output_type": "stream",
          "name": "stdout",
          "text": [
            "         Date Peak Interval Start Peak Interval End restaurant_name\n",
            "0  2023-10-07               17:00             18:00         r3d1075\n",
            "1  2023-10-08               17:00             18:00         r3d1075\n",
            "2  2023-10-09               17:00             18:00         r3d1075\n",
            "3  2023-10-10               17:00             18:00         r3d1075\n",
            "4  2023-10-11               17:00             18:00         r3d1075\n",
            "5  2023-10-12               17:00             18:00         r3d1075\n",
            "6  2023-10-13               23:00             00:00         r3d1075\n",
            "          Date Peak Interval Start Peak Interval End restaurant_name\n",
            "0   2023-10-07               09:00             10:00         r71ee64\n",
            "1   2023-10-08               09:00             10:00         r71ee64\n",
            "2   2023-10-09               09:00             10:00         r71ee64\n",
            "3   2023-10-10               09:00             10:00         r71ee64\n",
            "4   2023-10-11               09:00             10:00         r71ee64\n",
            "5   2023-10-12               09:00             10:00         r71ee64\n",
            "6   2023-10-13               23:00             00:00         r71ee64\n",
            "7   2023-10-07               08:00             09:00         rec62b3\n",
            "8   2023-10-08               08:00             09:00         rec62b3\n",
            "9   2023-10-09               08:00             09:00         rec62b3\n",
            "10  2023-10-10               08:00             09:00         rec62b3\n",
            "11  2023-10-11               08:00             09:00         rec62b3\n",
            "12  2023-10-12               08:00             09:00         rec62b3\n",
            "13  2023-10-13               23:00             00:00         rec62b3\n",
            "14  2023-10-07               10:00             11:00         rfa1ab3\n",
            "15  2023-10-08               10:00             11:00         rfa1ab3\n",
            "16  2023-10-09               10:00             11:00         rfa1ab3\n",
            "17  2023-10-10               10:00             11:00         rfa1ab3\n",
            "18  2023-10-11               10:00             11:00         rfa1ab3\n",
            "19  2023-10-12               10:00             11:00         rfa1ab3\n",
            "20  2023-10-13               23:00             00:00         rfa1ab3\n",
            "21  2023-10-07               12:00             13:00         r4ea226\n",
            "22  2023-10-08               02:00             03:00         r4ea226\n",
            "23  2023-10-09               02:00             03:00         r4ea226\n",
            "24  2023-10-10               02:00             03:00         r4ea226\n",
            "25  2023-10-11               02:00             03:00         r4ea226\n",
            "26  2023-10-12               02:00             03:00         r4ea226\n",
            "27  2023-10-13               23:00             00:00         r4ea226\n",
            "28  2023-10-07               17:00             18:00         r3d1075\n",
            "29  2023-10-08               17:00             18:00         r3d1075\n",
            "30  2023-10-09               17:00             18:00         r3d1075\n",
            "31  2023-10-10               17:00             18:00         r3d1075\n",
            "32  2023-10-11               17:00             18:00         r3d1075\n",
            "33  2023-10-12               17:00             18:00         r3d1075\n",
            "34  2023-10-13               23:00             00:00         r3d1075\n"
          ]
        }
      ]
    },
    {
      "cell_type": "markdown",
      "source": [
        "##建立模型"
      ],
      "metadata": {
        "id": "NCRDUyQ3LFSF"
      }
    },
    {
      "cell_type": "code",
      "source": [
        "for i, file_path in enumerate(json_files[:5]):\n",
        "    # Load data\n",
        "    df = pd.read_json(file_path)\n",
        "\n",
        "    # Need to prepare a DataFrame 'df' with columns 'ds' (datetime) and 'y' (revenue)\n",
        "\n",
        "    # Extract restaurant name from the file_path\n",
        "    restaurant_name = os.path.basename(file_path).split('.')[0]\n",
        "\n",
        "    # Convert 'invoice_unix_timestamp'(counted in seconds) to datetime format\n",
        "    df['ds'] = pd.to_datetime(df['invoice_unix_timestamp'], unit='s')\n",
        "\n",
        "    # Assuming revenue is the sum of 'invoice_total_amount' and 'invoice_discount_amount'\n",
        "    df['y'] = df['invoice_total_amount'].astype(float) - df['invoice_discount_amount'].astype(float)\n",
        "\n",
        "    # Create a new DataFrame with only 'ds' and 'y' columns\n",
        "    df = df[['ds', 'y']]"
      ],
      "metadata": {
        "id": "-eiIAzyTdMlT"
      },
      "execution_count": null,
      "outputs": []
    },
    {
      "cell_type": "code",
      "source": [
        "from sklearn.model_selection import train_test_split\n",
        "from sklearn.metrics import mean_absolute_error\n",
        "from prophet import Prophet\n",
        "import matplotlib.pyplot as plt\n",
        "\n",
        "# Split the data into training and testing sets\n",
        "train_size = int(len(df) * 0.8)  # 80% training, 20% testing\n",
        "train_data, test_data = df[:train_size], df[train_size:]"
      ],
      "metadata": {
        "id": "-nPEyd1ELG3B"
      },
      "execution_count": null,
      "outputs": []
    },
    {
      "cell_type": "code",
      "source": [
        "# Define the model\n",
        "model = Prophet(\n",
        "    seasonality_prior_scale=0.01,\n",
        "    changepoint_prior_scale=0.1,\n",
        "    # n_changepoints=25\n",
        ")\n",
        "\n",
        "# Add Taiwanese holidays\n",
        "model.add_country_holidays(country_name='TW')\n",
        "\n",
        "# Fit the model with training data\n",
        "model.fit(train_data)\n",
        "\n",
        "# Make predictions on the testing set\n",
        "forecast = model.predict(test_data)\n",
        "\n",
        "# Extract the relevant information (date, predicted revenue, and actual revenue) from the forecast and test_data\n",
        "result = forecast[['ds', 'yhat']].merge(test_data, on='ds')\n",
        "\n",
        "# Rename columns for clarity\n",
        "result.columns = ['ds', 'predicted_revenue', 'actual_revenue']\n",
        "\n",
        "# Evaluate the model using Mean Absolute Error (MAE)\n",
        "mae = mean_absolute_error(result['actual_revenue'], result['predicted_revenue'])\n",
        "print(f'Mean Absolute Error (MAE): {mae}')\n",
        "\n",
        "# Calculate the average revenue in the predicted values\n",
        "average_predicted_revenue = result['predicted_revenue'].mean()\n",
        "print(f'Average Predicted Revenue: {average_predicted_revenue}')\n",
        "\n",
        "# Check if MAE is a small percentage of the average predicted revenue\n",
        "mae_percentage = (mae / average_predicted_revenue) * 100\n",
        "print(f'MAE as a Percentage of Average Predicted Revenue: {mae_percentage:.2f}%')\n",
        "\n",
        "# Assess the performance based on MAE\n",
        "if mae_percentage < 10:\n",
        "    print('The model performance is good.')\n",
        "else:\n",
        "    print('The model performance may need improvement. Consider further analysis and tuning.')"
      ],
      "metadata": {
        "colab": {
          "base_uri": "https://localhost:8080/"
        },
        "id": "BAYLnPcuR46o",
        "outputId": "a854714b-bab2-43b2-8c09-16bbde3894e0"
      },
      "execution_count": null,
      "outputs": [
        {
          "output_type": "stream",
          "name": "stderr",
          "text": [
            "DEBUG:cmdstanpy:input tempfile: /tmp/tmphb9jblk1/2i348u2b.json\n",
            "DEBUG:cmdstanpy:input tempfile: /tmp/tmphb9jblk1/dgb6agkr.json\n",
            "DEBUG:cmdstanpy:idx 0\n",
            "DEBUG:cmdstanpy:running CmdStan, num_threads: None\n",
            "DEBUG:cmdstanpy:CmdStan args: ['/usr/local/lib/python3.10/dist-packages/prophet/stan_model/prophet_model.bin', 'random', 'seed=38876', 'data', 'file=/tmp/tmphb9jblk1/2i348u2b.json', 'init=/tmp/tmphb9jblk1/dgb6agkr.json', 'output', 'file=/tmp/tmphb9jblk1/prophet_modelu6czlmnk/prophet_model-20231209071050.csv', 'method=optimize', 'algorithm=lbfgs', 'iter=10000']\n",
            "07:10:50 - cmdstanpy - INFO - Chain [1] start processing\n",
            "INFO:cmdstanpy:Chain [1] start processing\n",
            "07:11:52 - cmdstanpy - INFO - Chain [1] done processing\n",
            "INFO:cmdstanpy:Chain [1] done processing\n"
          ]
        },
        {
          "output_type": "stream",
          "name": "stdout",
          "text": [
            "Mean Absolute Error (MAE): 86.22011698372171\n",
            "Average Predicted Revenue: 184.21243068343114\n",
            "MAE as a Percentage of Average Predicted Revenue: 46.80%\n",
            "The model performance may need improvement. Consider further analysis and tuning.\n"
          ]
        }
      ]
    },
    {
      "cell_type": "markdown",
      "source": [
        "##預測"
      ],
      "metadata": {
        "id": "KtzF-NMILNFP"
      }
    },
    {
      "cell_type": "code",
      "source": [
        "    hourly_date_range = pd.date_range(start='2023-10-07', end='2023-10-13', freq='H')\n",
        "    future_hourly = pd.DataFrame({'ds': hourly_date_range})\n",
        "\n",
        "    # Use the model to make an hourly forecast\n",
        "    forecast_hourly = model.predict(future_hourly)\n",
        "\n",
        "    result = []\n",
        "    # for date in forecast_hourly['ds'].dt.date.unique():\n",
        "    #     daily_data = forecast_hourly[forecast_hourly['ds'].dt.date == date]\n",
        "    #     hourly_differences = daily_data['yhat'].diff().fillna(0)  # Calculate differences between consecutive hours\n",
        "    #     max_interval_end = daily_data.loc[hourly_differences.idxmax(), 'ds']\n",
        "\n",
        "    #     # Subtract an hour to get the start of the peak interval\n",
        "    #     max_interval_start = max_interval_end - pd.DateOffset(hours=1)\n",
        "\n",
        "    #     result.append({'Date': date, 'Peak Interval Start': max_interval_start.strftime('%H:%M'),\n",
        "    #                   'Peak Interval End': max_interval_end.strftime('%H:%M')})\n",
        "\n",
        "    for date in forecast_hourly['ds'].dt.date.unique():\n",
        "      daily_data = forecast_hourly[forecast_hourly['ds'].dt.date == date]\n",
        "\n",
        "      # Find the hour with the maximum revenue\n",
        "      max_revenue_hour = daily_data.loc[daily_data['yhat'].idxmax(), 'ds']\n",
        "\n",
        "      # Subtract an hour to get the start of the peak interval\n",
        "      max_interval_start = max_revenue_hour - pd.DateOffset(hours=1)\n",
        "\n",
        "      result.append({'Date': date, 'Peak Interval Start': max_interval_start.strftime('%H:%M'),\n",
        "                    'Peak Interval End': max_revenue_hour.strftime('%H:%M')})\n",
        "\n",
        "\n",
        "    # Convert the result to a DataFrame\n",
        "    result_df = pd.DataFrame(result)\n",
        "    result_df['restaurant_name'] = restaurant_name\n",
        "    print(result_df)\n",
        "\n",
        "    # Append the result to the final_result DataFrame\n",
        "    final_result = pd.concat([final_result, result_df], ignore_index=True)\n",
        "\n",
        "final_result.to_csv('/content/drive/My Drive/restaurant_data/predicted_results_1~5.csv', index=False)\n",
        "print(final_result)"
      ],
      "metadata": {
        "colab": {
          "base_uri": "https://localhost:8080/"
        },
        "id": "0S6WGOsVLTQy",
        "outputId": "7e3a0a32-920d-408a-dd30-f85fe44438ae"
      },
      "execution_count": null,
      "outputs": [
        {
          "output_type": "stream",
          "name": "stdout",
          "text": [
            "         Date Peak Interval Start Peak Interval End restaurant_name\n",
            "0  2023-10-07               17:00             18:00         r3d1075\n",
            "1  2023-10-08               17:00             18:00         r3d1075\n",
            "2  2023-10-09               17:00             18:00         r3d1075\n",
            "3  2023-10-10               17:00             18:00         r3d1075\n",
            "4  2023-10-11               17:00             18:00         r3d1075\n",
            "5  2023-10-12               17:00             18:00         r3d1075\n",
            "6  2023-10-13               23:00             00:00         r3d1075\n",
            "         Date Peak Interval Start Peak Interval End restaurant_name\n",
            "0  2023-10-07               17:00             18:00         r3d1075\n",
            "1  2023-10-08               17:00             18:00         r3d1075\n",
            "2  2023-10-09               17:00             18:00         r3d1075\n",
            "3  2023-10-10               17:00             18:00         r3d1075\n",
            "4  2023-10-11               17:00             18:00         r3d1075\n",
            "5  2023-10-12               17:00             18:00         r3d1075\n",
            "6  2023-10-13               23:00             00:00         r3d1075\n"
          ]
        }
      ]
    },
    {
      "cell_type": "markdown",
      "source": [
        "### draw plot"
      ],
      "metadata": {
        "id": "4zTURK6cbFn3"
      }
    },
    {
      "cell_type": "code",
      "source": [
        "# Display the forecast for the entire period\n",
        "print(forecast[['ds', 'yhat', 'yhat_lower', 'yhat_upper']])\n",
        "\n",
        "# Plot the forecast for the entire period\n",
        "fig1 = model.plot(forecast)\n",
        "plt.title('Complete Forecast')\n",
        "plt.show()\n",
        "\n",
        "# Plot the forecast for the specific date range\n",
        "fig2 = model.plot(forecast)\n",
        "plt.xlim([start_date, end_date])  # Set the x-axis limits to focus on the desired date range\n",
        "plt.title('Forecast for 2023/10/07 - 2023/10/13')  # Add a title to the plot\n",
        "plt.show()"
      ],
      "metadata": {
        "colab": {
          "base_uri": "https://localhost:8080/",
          "height": 1000
        },
        "id": "_MBeDO0BbHUN",
        "outputId": "f625d422-7da3-4968-8640-844d06afb9f3"
      },
      "execution_count": null,
      "outputs": [
        {
          "output_type": "stream",
          "name": "stdout",
          "text": [
            "          ds        yhat  yhat_lower  yhat_upper\n",
            "0 2023-10-07  185.525830    3.131697  376.621982\n",
            "1 2023-10-08  207.409042   27.122171  396.697541\n",
            "2 2023-10-09  157.870313  -32.670734  328.313331\n",
            "3 2023-10-10  144.632862  -22.147588  335.723483\n",
            "4 2023-10-11  155.412797  -23.437015  340.504385\n",
            "5 2023-10-12  142.796018  -29.856444  323.253600\n",
            "6 2023-10-13  148.823662  -32.017943  337.020208\n"
          ]
        },
        {
          "output_type": "display_data",
          "data": {
            "text/plain": [
              "<Figure size 1000x600 with 1 Axes>"
            ],
            "image/png": "[encoded data removed]"
          },
          "metadata": {}
        },
        {
          "output_type": "display_data",
          "data": {
            "text/plain": [
              "<Figure size 1000x600 with 1 Axes>"
            ],
            "image/png": "[encoded data removed]"
          },
          "metadata": {}
        }
      ]
    },
    {
      "cell_type": "markdown",
      "source": [
        "## predict結果意義"
      ],
      "metadata": {
        "id": "LwBK-Cwzctvo"
      }
    },
    {
      "cell_type": "markdown",
      "source": [
        "##Manually Evaluate Forecast Model"
      ],
      "metadata": {
        "id": "RZl6F4dhb0fK"
      }
    },
    {
      "cell_type": "code",
      "source": [],
      "metadata": {
        "id": "-YoFe03ib5Za"
      },
      "execution_count": null,
      "outputs": []
    }
  ]
}